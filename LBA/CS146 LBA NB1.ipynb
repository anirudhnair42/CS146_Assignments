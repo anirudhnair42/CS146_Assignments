{
 "metadata": {
  "language_info": {
   "codemirror_mode": {
    "name": "ipython",
    "version": 3
   },
   "file_extension": ".py",
   "mimetype": "text/x-python",
   "name": "python",
   "nbconvert_exporter": "python",
   "pygments_lexer": "ipython3",
   "version": "3.8.3-final"
  },
  "orig_nbformat": 2,
  "kernelspec": {
   "name": "python3",
   "display_name": "Python 3"
  }
 },
 "nbformat": 4,
 "nbformat_minor": 2,
 "cells": [
  {
   "cell_type": "code",
   "execution_count": 57,
   "metadata": {},
   "outputs": [],
   "source": [
    "#importing the required libraries\n",
    "import pandas as pd\n",
    "import numpy as np\n",
    "import matplotlib.pyplot as plt\n",
    "import seaborn as sns\n",
    "import pystan\n",
    "import scipy.stats as sts\n",
    "sns.set()"
   ]
  },
  {
   "cell_type": "code",
   "execution_count": 58,
   "metadata": {},
   "outputs": [
    {
     "output_type": "execute_result",
     "data": {
      "text/plain": [
       "             Timestamp                      Email Address           Your name  \\\n",
       "0  10/20/2020 23:22:49         tiagoflora@minerva.kgi.edu         Tiago Flora   \n",
       "1  10/20/2020 23:32:18         tiagoflora@minerva.kgi.edu         Tiago Flora   \n",
       "2  10/23/2020 18:39:04  katja.dellalibera@minerva.kgi.edu  Katja Della Libera   \n",
       "\n",
       "  Country where you (and the grocery store) are Currency (e.g. EUR, GBP, USD)  \\\n",
       "0                                       Germany                           EUR   \n",
       "1                                       Germany                           EUR   \n",
       "2                                       Germany                           EUR   \n",
       "\n",
       "  Grocery store name and street address (or URL if shopping online)  \\\n",
       "0                             EDEKA, Grunerstraße 20                  \n",
       "1               EDEKA Andreasstraße 59, 10243 Berlin                  \n",
       "2     EDEKA BAUR, Gottlieber Str. 34, 78462 Konstanz                  \n",
       "\n",
       "  Price perception of the store brand  \\\n",
       "0                           Mid-range   \n",
       "1                           Mid-range   \n",
       "2                           Mid-range   \n",
       "\n",
       "  Average rental price near the grocery store  Product 1 quantity (kg)  \\\n",
       "0                                      EUR900                      1.0   \n",
       "1                                      EUR850                      1.0   \n",
       "2                                        1000                      1.0   \n",
       "\n",
       "   Product 1 price  ...  Product 2 quantity (count)  Product 2 price.8  \\\n",
       "0             2.93  ...                         6.0               1.75   \n",
       "1             1.95  ...                         6.0               2.73   \n",
       "2             2.93  ...                        10.0               3.23   \n",
       "\n",
       "   Product 3 quantity (count)  Product 3 price.8  Product 1 quantity (kg).7  \\\n",
       "0                         4.0               1.99                      0.312   \n",
       "1                        10.0               1.63                      0.394   \n",
       "2                        10.0               1.25                      0.600   \n",
       "\n",
       "   Product 1 price.9  Product 2 quantity (kg).7  Product 2 price.9  \\\n",
       "0               3.97                       0.60               3.87   \n",
       "1               5.02                       0.43               7.17   \n",
       "2               3.88                       0.40               2.91   \n",
       "\n",
       "   Product 3 quantity (kg).7  Product 3 price.9  \n",
       "0                      0.400               2.90  \n",
       "1                      0.311               9.12  \n",
       "2                        NaN                NaN  \n",
       "\n",
       "[3 rows x 68 columns]"
      ],
      "text/html": "<div>\n<style scoped>\n    .dataframe tbody tr th:only-of-type {\n        vertical-align: middle;\n    }\n\n    .dataframe tbody tr th {\n        vertical-align: top;\n    }\n\n    .dataframe thead th {\n        text-align: right;\n    }\n</style>\n<table border=\"1\" class=\"dataframe\">\n  <thead>\n    <tr style=\"text-align: right;\">\n      <th></th>\n      <th>Timestamp</th>\n      <th>Email Address</th>\n      <th>Your name</th>\n      <th>Country where you (and the grocery store) are</th>\n      <th>Currency (e.g. EUR, GBP, USD)</th>\n      <th>Grocery store name and street address (or URL if shopping online)</th>\n      <th>Price perception of the store brand</th>\n      <th>Average rental price near the grocery store</th>\n      <th>Product 1 quantity (kg)</th>\n      <th>Product 1 price</th>\n      <th>...</th>\n      <th>Product 2 quantity (count)</th>\n      <th>Product 2 price.8</th>\n      <th>Product 3 quantity (count)</th>\n      <th>Product 3 price.8</th>\n      <th>Product 1 quantity (kg).7</th>\n      <th>Product 1 price.9</th>\n      <th>Product 2 quantity (kg).7</th>\n      <th>Product 2 price.9</th>\n      <th>Product 3 quantity (kg).7</th>\n      <th>Product 3 price.9</th>\n    </tr>\n  </thead>\n  <tbody>\n    <tr>\n      <th>0</th>\n      <td>10/20/2020 23:22:49</td>\n      <td>tiagoflora@minerva.kgi.edu</td>\n      <td>Tiago Flora</td>\n      <td>Germany</td>\n      <td>EUR</td>\n      <td>EDEKA, Grunerstraße 20</td>\n      <td>Mid-range</td>\n      <td>EUR900</td>\n      <td>1.0</td>\n      <td>2.93</td>\n      <td>...</td>\n      <td>6.0</td>\n      <td>1.75</td>\n      <td>4.0</td>\n      <td>1.99</td>\n      <td>0.312</td>\n      <td>3.97</td>\n      <td>0.60</td>\n      <td>3.87</td>\n      <td>0.400</td>\n      <td>2.90</td>\n    </tr>\n    <tr>\n      <th>1</th>\n      <td>10/20/2020 23:32:18</td>\n      <td>tiagoflora@minerva.kgi.edu</td>\n      <td>Tiago Flora</td>\n      <td>Germany</td>\n      <td>EUR</td>\n      <td>EDEKA Andreasstraße 59, 10243 Berlin</td>\n      <td>Mid-range</td>\n      <td>EUR850</td>\n      <td>1.0</td>\n      <td>1.95</td>\n      <td>...</td>\n      <td>6.0</td>\n      <td>2.73</td>\n      <td>10.0</td>\n      <td>1.63</td>\n      <td>0.394</td>\n      <td>5.02</td>\n      <td>0.43</td>\n      <td>7.17</td>\n      <td>0.311</td>\n      <td>9.12</td>\n    </tr>\n    <tr>\n      <th>2</th>\n      <td>10/23/2020 18:39:04</td>\n      <td>katja.dellalibera@minerva.kgi.edu</td>\n      <td>Katja Della Libera</td>\n      <td>Germany</td>\n      <td>EUR</td>\n      <td>EDEKA BAUR, Gottlieber Str. 34, 78462 Konstanz</td>\n      <td>Mid-range</td>\n      <td>1000</td>\n      <td>1.0</td>\n      <td>2.93</td>\n      <td>...</td>\n      <td>10.0</td>\n      <td>3.23</td>\n      <td>10.0</td>\n      <td>1.25</td>\n      <td>0.600</td>\n      <td>3.88</td>\n      <td>0.40</td>\n      <td>2.91</td>\n      <td>NaN</td>\n      <td>NaN</td>\n    </tr>\n  </tbody>\n</table>\n<p>3 rows × 68 columns</p>\n</div>"
     },
     "metadata": {},
     "execution_count": 58
    }
   ],
   "source": [
    "\n",
    "#importing the data and previewing\n",
    "data = pd.read_csv('/Users/anirudhn/Desktop/Code/CS146_Assignments/LBA/Data.csv', na_values='n/a')\n",
    "data.head(n=3)"
   ]
  },
  {
   "cell_type": "code",
   "execution_count": 59,
   "metadata": {},
   "outputs": [
    {
     "output_type": "execute_result",
     "data": {
      "text/plain": [
       "   Country Currency    Brand Perception  Product 1 quantity (kg)  \\\n",
       "0  Germany      EUR           Mid-range                      1.0   \n",
       "1  Germany      EUR           Mid-range                      1.0   \n",
       "2  Germany      EUR           Mid-range                      1.0   \n",
       "3  Germany      EUR  Luxury (expensive)                      1.0   \n",
       "4  Germany      EUR      Budget (cheap)                      1.0   \n",
       "\n",
       "   Product 1 price  Product 2 quantity (kg)  Product 2 price  \\\n",
       "0             2.93                      2.0             3.22   \n",
       "1             1.95                      1.0             2.93   \n",
       "2             2.93                      1.0             1.25   \n",
       "3             3.99                      1.0             3.99   \n",
       "4             2.93                      1.0             2.93   \n",
       "\n",
       "   Product 3 quantity (kg)  Product 3 price  Product 1 quantity (kg).1  ...  \\\n",
       "0                      1.0             1.75                        1.0  ...   \n",
       "1                      0.8             2.93                        1.0  ...   \n",
       "2                      2.0             3.42                        1.0  ...   \n",
       "3                      1.0             3.99                        1.0  ...   \n",
       "4                      1.0             2.93                        1.0  ...   \n",
       "\n",
       "   Product 2 quantity (count)  Product 2 price.8  Product 3 quantity (count)  \\\n",
       "0                         6.0               1.75                         4.0   \n",
       "1                         6.0               2.73                        10.0   \n",
       "2                        10.0               3.23                        10.0   \n",
       "3                        10.0               1.99                         1.0   \n",
       "4                         6.0               2.44                        10.0   \n",
       "\n",
       "   Product 3 price.8  Product 1 quantity (kg).7  Product 1 price.9  \\\n",
       "0               1.99                      0.312               3.97   \n",
       "1               1.63                      0.394               5.02   \n",
       "2               1.25                      0.600               3.88   \n",
       "3               0.45                      1.000              32.90   \n",
       "4               2.34                      0.600               3.87   \n",
       "\n",
       "   Product 2 quantity (kg).7  Product 2 price.9  Product 3 quantity (kg).7  \\\n",
       "0                      0.600               3.87                      0.400   \n",
       "1                      0.430               7.17                      0.311   \n",
       "2                      0.400               2.91                        NaN   \n",
       "3                        NaN                NaN                        NaN   \n",
       "4                      0.392               4.99                      0.333   \n",
       "\n",
       "   Product 3 price.9  \n",
       "0               2.90  \n",
       "1               9.12  \n",
       "2                NaN  \n",
       "3                NaN  \n",
       "4               3.26  \n",
       "\n",
       "[5 rows x 63 columns]"
      ],
      "text/html": "<div>\n<style scoped>\n    .dataframe tbody tr th:only-of-type {\n        vertical-align: middle;\n    }\n\n    .dataframe tbody tr th {\n        vertical-align: top;\n    }\n\n    .dataframe thead th {\n        text-align: right;\n    }\n</style>\n<table border=\"1\" class=\"dataframe\">\n  <thead>\n    <tr style=\"text-align: right;\">\n      <th></th>\n      <th>Country</th>\n      <th>Currency</th>\n      <th>Brand Perception</th>\n      <th>Product 1 quantity (kg)</th>\n      <th>Product 1 price</th>\n      <th>Product 2 quantity (kg)</th>\n      <th>Product 2 price</th>\n      <th>Product 3 quantity (kg)</th>\n      <th>Product 3 price</th>\n      <th>Product 1 quantity (kg).1</th>\n      <th>...</th>\n      <th>Product 2 quantity (count)</th>\n      <th>Product 2 price.8</th>\n      <th>Product 3 quantity (count)</th>\n      <th>Product 3 price.8</th>\n      <th>Product 1 quantity (kg).7</th>\n      <th>Product 1 price.9</th>\n      <th>Product 2 quantity (kg).7</th>\n      <th>Product 2 price.9</th>\n      <th>Product 3 quantity (kg).7</th>\n      <th>Product 3 price.9</th>\n    </tr>\n  </thead>\n  <tbody>\n    <tr>\n      <th>0</th>\n      <td>Germany</td>\n      <td>EUR</td>\n      <td>Mid-range</td>\n      <td>1.0</td>\n      <td>2.93</td>\n      <td>2.0</td>\n      <td>3.22</td>\n      <td>1.0</td>\n      <td>1.75</td>\n      <td>1.0</td>\n      <td>...</td>\n      <td>6.0</td>\n      <td>1.75</td>\n      <td>4.0</td>\n      <td>1.99</td>\n      <td>0.312</td>\n      <td>3.97</td>\n      <td>0.600</td>\n      <td>3.87</td>\n      <td>0.400</td>\n      <td>2.90</td>\n    </tr>\n    <tr>\n      <th>1</th>\n      <td>Germany</td>\n      <td>EUR</td>\n      <td>Mid-range</td>\n      <td>1.0</td>\n      <td>1.95</td>\n      <td>1.0</td>\n      <td>2.93</td>\n      <td>0.8</td>\n      <td>2.93</td>\n      <td>1.0</td>\n      <td>...</td>\n      <td>6.0</td>\n      <td>2.73</td>\n      <td>10.0</td>\n      <td>1.63</td>\n      <td>0.394</td>\n      <td>5.02</td>\n      <td>0.430</td>\n      <td>7.17</td>\n      <td>0.311</td>\n      <td>9.12</td>\n    </tr>\n    <tr>\n      <th>2</th>\n      <td>Germany</td>\n      <td>EUR</td>\n      <td>Mid-range</td>\n      <td>1.0</td>\n      <td>2.93</td>\n      <td>1.0</td>\n      <td>1.25</td>\n      <td>2.0</td>\n      <td>3.42</td>\n      <td>1.0</td>\n      <td>...</td>\n      <td>10.0</td>\n      <td>3.23</td>\n      <td>10.0</td>\n      <td>1.25</td>\n      <td>0.600</td>\n      <td>3.88</td>\n      <td>0.400</td>\n      <td>2.91</td>\n      <td>NaN</td>\n      <td>NaN</td>\n    </tr>\n    <tr>\n      <th>3</th>\n      <td>Germany</td>\n      <td>EUR</td>\n      <td>Luxury (expensive)</td>\n      <td>1.0</td>\n      <td>3.99</td>\n      <td>1.0</td>\n      <td>3.99</td>\n      <td>1.0</td>\n      <td>3.99</td>\n      <td>1.0</td>\n      <td>...</td>\n      <td>10.0</td>\n      <td>1.99</td>\n      <td>1.0</td>\n      <td>0.45</td>\n      <td>1.000</td>\n      <td>32.90</td>\n      <td>NaN</td>\n      <td>NaN</td>\n      <td>NaN</td>\n      <td>NaN</td>\n    </tr>\n    <tr>\n      <th>4</th>\n      <td>Germany</td>\n      <td>EUR</td>\n      <td>Budget (cheap)</td>\n      <td>1.0</td>\n      <td>2.93</td>\n      <td>1.0</td>\n      <td>2.93</td>\n      <td>1.0</td>\n      <td>2.93</td>\n      <td>1.0</td>\n      <td>...</td>\n      <td>6.0</td>\n      <td>2.44</td>\n      <td>10.0</td>\n      <td>2.34</td>\n      <td>0.600</td>\n      <td>3.87</td>\n      <td>0.392</td>\n      <td>4.99</td>\n      <td>0.333</td>\n      <td>3.26</td>\n    </tr>\n  </tbody>\n</table>\n<p>5 rows × 63 columns</p>\n</div>"
     },
     "metadata": {},
     "execution_count": 59
    }
   ],
   "source": [
    "#dropping the columns that are not required for the initial part of the assignment\n",
    "data.drop(['Timestamp','Email Address','Your name','Grocery store name and street address (or URL if shopping online)','Average rental price near the grocery store'], axis = 1, inplace = True)\n",
    "\n",
    "#naming the columns in a more convenient manner\n",
    "data.rename(columns={\"Country where you (and the grocery store) are\": \"Country\", \"Currency (e.g. EUR, GBP, USD)\": \"Currency\",\"Price perception of the store brand\":\"Brand Perception\"}, inplace= True)\n",
    "\n",
    "#previewing the data\n",
    "data.head()"
   ]
  },
  {
   "cell_type": "code",
   "execution_count": 60,
   "metadata": {},
   "outputs": [
    {
     "output_type": "stream",
     "name": "stdout",
     "text": [
      "2.93\n3.22\n1.75\n1.73\n1.73\nnan\n1.95\n2.24\n2.84\n0.96\n1.05\n1.93\n1.75\n1.26\n1.56\n1.95\n2.83\n4.89\n1.46\n1.05\n1.25\n2.15\n2.14\n2.1\n3.79\n1.75\n1.99\n3.97\n3.87\n"
     ]
    }
   ],
   "source": [
    "for i in range(4,62,2):\n",
    "    print(data.iloc[0,i])"
   ]
  },
  {
   "cell_type": "code",
   "execution_count": 61,
   "metadata": {},
   "outputs": [
    {
     "output_type": "execute_result",
     "data": {
      "text/plain": [
       "   Country Currency    Brand Perception  Product 1 quantity (kg)  \\\n",
       "0  Germany      EUR           Mid-range                      1.0   \n",
       "1  Germany      EUR           Mid-range                      1.0   \n",
       "2  Germany      EUR           Mid-range                      1.0   \n",
       "3  Germany      EUR  Luxury (expensive)                      1.0   \n",
       "4  Germany      EUR      Budget (cheap)                      1.0   \n",
       "\n",
       "   Product 1 price  Product 2 quantity (kg)  Product 2 price  \\\n",
       "0          3.47791                      2.0          3.82214   \n",
       "1          2.31465                      1.0          3.47791   \n",
       "2          3.47791                      1.0          1.48375   \n",
       "3          4.73613                      1.0          4.73613   \n",
       "4          3.47791                      1.0          3.47791   \n",
       "\n",
       "   Product 3 quantity (kg)  Product 3 price  Product 1 quantity (kg).1  ...  \\\n",
       "0                      1.0          2.07725                        1.0  ...   \n",
       "1                      0.8          3.47791                        1.0  ...   \n",
       "2                      2.0          4.05954                        1.0  ...   \n",
       "3                      1.0          4.73613                        1.0  ...   \n",
       "4                      1.0          3.47791                        1.0  ...   \n",
       "\n",
       "   Product 2 quantity (count)  Product 2 price.8  Product 3 quantity (count)  \\\n",
       "0                         6.0            2.07725                         4.0   \n",
       "1                         6.0            3.24051                        10.0   \n",
       "2                        10.0            3.83401                        10.0   \n",
       "3                        10.0            2.36213                         1.0   \n",
       "4                         6.0            2.89628                        10.0   \n",
       "\n",
       "   Product 3 price.8  Product 1 quantity (kg).7  Product 1 price.9  \\\n",
       "0            2.36213                      0.312            4.71239   \n",
       "1            1.93481                      0.394            5.95874   \n",
       "2            1.48375                      0.600            4.60556   \n",
       "3            0.53415                      1.000           39.05230   \n",
       "4            2.77758                      0.600            4.59369   \n",
       "\n",
       "   Product 2 quantity (kg).7  Product 2 price.9  Product 3 quantity (kg).7  \\\n",
       "0                      0.600            4.59369                      0.400   \n",
       "1                      0.430            8.51079                      0.311   \n",
       "2                      0.400            3.45417                        NaN   \n",
       "3                        NaN                NaN                        NaN   \n",
       "4                      0.392            5.92313                      0.333   \n",
       "\n",
       "   Product 3 price.9  \n",
       "0               2.90  \n",
       "1               9.12  \n",
       "2                NaN  \n",
       "3                NaN  \n",
       "4               3.26  \n",
       "\n",
       "[5 rows x 63 columns]"
      ],
      "text/html": "<div>\n<style scoped>\n    .dataframe tbody tr th:only-of-type {\n        vertical-align: middle;\n    }\n\n    .dataframe tbody tr th {\n        vertical-align: top;\n    }\n\n    .dataframe thead th {\n        text-align: right;\n    }\n</style>\n<table border=\"1\" class=\"dataframe\">\n  <thead>\n    <tr style=\"text-align: right;\">\n      <th></th>\n      <th>Country</th>\n      <th>Currency</th>\n      <th>Brand Perception</th>\n      <th>Product 1 quantity (kg)</th>\n      <th>Product 1 price</th>\n      <th>Product 2 quantity (kg)</th>\n      <th>Product 2 price</th>\n      <th>Product 3 quantity (kg)</th>\n      <th>Product 3 price</th>\n      <th>Product 1 quantity (kg).1</th>\n      <th>...</th>\n      <th>Product 2 quantity (count)</th>\n      <th>Product 2 price.8</th>\n      <th>Product 3 quantity (count)</th>\n      <th>Product 3 price.8</th>\n      <th>Product 1 quantity (kg).7</th>\n      <th>Product 1 price.9</th>\n      <th>Product 2 quantity (kg).7</th>\n      <th>Product 2 price.9</th>\n      <th>Product 3 quantity (kg).7</th>\n      <th>Product 3 price.9</th>\n    </tr>\n  </thead>\n  <tbody>\n    <tr>\n      <th>0</th>\n      <td>Germany</td>\n      <td>EUR</td>\n      <td>Mid-range</td>\n      <td>1.0</td>\n      <td>3.47791</td>\n      <td>2.0</td>\n      <td>3.82214</td>\n      <td>1.0</td>\n      <td>2.07725</td>\n      <td>1.0</td>\n      <td>...</td>\n      <td>6.0</td>\n      <td>2.07725</td>\n      <td>4.0</td>\n      <td>2.36213</td>\n      <td>0.312</td>\n      <td>4.71239</td>\n      <td>0.600</td>\n      <td>4.59369</td>\n      <td>0.400</td>\n      <td>2.90</td>\n    </tr>\n    <tr>\n      <th>1</th>\n      <td>Germany</td>\n      <td>EUR</td>\n      <td>Mid-range</td>\n      <td>1.0</td>\n      <td>2.31465</td>\n      <td>1.0</td>\n      <td>3.47791</td>\n      <td>0.8</td>\n      <td>3.47791</td>\n      <td>1.0</td>\n      <td>...</td>\n      <td>6.0</td>\n      <td>3.24051</td>\n      <td>10.0</td>\n      <td>1.93481</td>\n      <td>0.394</td>\n      <td>5.95874</td>\n      <td>0.430</td>\n      <td>8.51079</td>\n      <td>0.311</td>\n      <td>9.12</td>\n    </tr>\n    <tr>\n      <th>2</th>\n      <td>Germany</td>\n      <td>EUR</td>\n      <td>Mid-range</td>\n      <td>1.0</td>\n      <td>3.47791</td>\n      <td>1.0</td>\n      <td>1.48375</td>\n      <td>2.0</td>\n      <td>4.05954</td>\n      <td>1.0</td>\n      <td>...</td>\n      <td>10.0</td>\n      <td>3.83401</td>\n      <td>10.0</td>\n      <td>1.48375</td>\n      <td>0.600</td>\n      <td>4.60556</td>\n      <td>0.400</td>\n      <td>3.45417</td>\n      <td>NaN</td>\n      <td>NaN</td>\n    </tr>\n    <tr>\n      <th>3</th>\n      <td>Germany</td>\n      <td>EUR</td>\n      <td>Luxury (expensive)</td>\n      <td>1.0</td>\n      <td>4.73613</td>\n      <td>1.0</td>\n      <td>4.73613</td>\n      <td>1.0</td>\n      <td>4.73613</td>\n      <td>1.0</td>\n      <td>...</td>\n      <td>10.0</td>\n      <td>2.36213</td>\n      <td>1.0</td>\n      <td>0.53415</td>\n      <td>1.000</td>\n      <td>39.05230</td>\n      <td>NaN</td>\n      <td>NaN</td>\n      <td>NaN</td>\n      <td>NaN</td>\n    </tr>\n    <tr>\n      <th>4</th>\n      <td>Germany</td>\n      <td>EUR</td>\n      <td>Budget (cheap)</td>\n      <td>1.0</td>\n      <td>3.47791</td>\n      <td>1.0</td>\n      <td>3.47791</td>\n      <td>1.0</td>\n      <td>3.47791</td>\n      <td>1.0</td>\n      <td>...</td>\n      <td>6.0</td>\n      <td>2.89628</td>\n      <td>10.0</td>\n      <td>2.77758</td>\n      <td>0.600</td>\n      <td>4.59369</td>\n      <td>0.392</td>\n      <td>5.92313</td>\n      <td>0.333</td>\n      <td>3.26</td>\n    </tr>\n  </tbody>\n</table>\n<p>5 rows × 63 columns</p>\n</div>"
     },
     "metadata": {},
     "execution_count": 61
    }
   ],
   "source": [
    "#converting all prices to a unified currency:USD\n",
    "for index in data.index:\n",
    "    if data.iloc[index,1] == \"EUR\":\n",
    "        for i in range(4,62,2):\n",
    "            data.iloc[index,i] = data.iloc[index,i]*1.187\n",
    "    elif data.iloc[index,1] == \"GBP\":\n",
    "        for k in range(4,62,2):\n",
    "            data.iloc[index,k] = data.iloc[index,k]*1.316\n",
    "    elif data.iloc[index,1] == \"MAD\":\n",
    "        for m in range(4,62,2):\n",
    "            data.iloc[index,m] = data.iloc[index,m]*0.109\n",
    "    elif data.iloc[index,1] == \"VND\":\n",
    "        for l in range(4,62,2):\n",
    "            data.iloc[index,l] = data.iloc[index,l]*0.000043\n",
    "    elif data.iloc[index,1] == \"KRW\":\n",
    "        for h in range(4,62,2):\n",
    "            data.iloc[index,h] = data.iloc[index,h]*0.00089\n",
    "    elif data.iloc[index,1] == \"GTQ\":\n",
    "        for g in range(4,62,2):\n",
    "            data.iloc[index,g] = data.iloc[index,g]*0.129\n",
    "\n",
    "data.head(5)"
   ]
  },
  {
   "cell_type": "code",
   "execution_count": 7,
   "metadata": {},
   "outputs": [
    {
     "output_type": "execute_result",
     "data": {
      "text/plain": [
       "   Country Currency    Brand Perception  Product 1 quantity (kg)  \\\n",
       "0  Germany      EUR           Mid-range                      1.0   \n",
       "1  Germany      EUR           Mid-range                      1.0   \n",
       "2  Germany      EUR           Mid-range                      1.0   \n",
       "3  Germany      EUR  Luxury (expensive)                      1.0   \n",
       "4  Germany      EUR      Budget (cheap)                      1.0   \n",
       "\n",
       "   Product 1 price  Product 2 quantity (kg)  Product 2 price  \\\n",
       "0             2.93                      2.0             3.22   \n",
       "1             1.95                      1.0             2.93   \n",
       "2             2.93                      1.0             1.25   \n",
       "3             3.99                      1.0             3.99   \n",
       "4             2.93                      1.0             2.93   \n",
       "\n",
       "   Product 3 quantity (kg)  Product 3 price  Product 1 quantity (kg).1  ...  \\\n",
       "0                      1.0             1.75                        1.0  ...   \n",
       "1                      0.8             2.93                        1.0  ...   \n",
       "2                      2.0             3.42                        1.0  ...   \n",
       "3                      1.0             3.99                        1.0  ...   \n",
       "4                      1.0             2.93                        1.0  ...   \n",
       "\n",
       "   Product 2 quantity (count)  Product 2 price.8  Product 3 quantity (count)  \\\n",
       "0                         6.0               1.75                         4.0   \n",
       "1                         6.0               2.73                        10.0   \n",
       "2                        10.0               3.23                        10.0   \n",
       "3                        10.0               1.99                         1.0   \n",
       "4                         6.0               2.44                        10.0   \n",
       "\n",
       "   Product 3 price.8  Product 1 quantity (kg).7  Product 1 price.9  \\\n",
       "0               1.99                      0.312               3.97   \n",
       "1               1.63                      0.394               5.02   \n",
       "2               1.25                      0.600               3.88   \n",
       "3               0.45                      1.000              32.90   \n",
       "4               2.34                      0.600               3.87   \n",
       "\n",
       "   Product 2 quantity (kg).7  Product 2 price.9  Product 3 quantity (kg).7  \\\n",
       "0                      0.600               3.87                      0.400   \n",
       "1                      0.430               7.17                      0.311   \n",
       "2                      0.400               2.91                        NaN   \n",
       "3                        NaN                NaN                        NaN   \n",
       "4                      0.392               4.99                      0.333   \n",
       "\n",
       "   Product 3 price.9  \n",
       "0               2.90  \n",
       "1               9.12  \n",
       "2                NaN  \n",
       "3                NaN  \n",
       "4               3.26  \n",
       "\n",
       "[5 rows x 63 columns]"
      ],
      "text/html": "<div>\n<style scoped>\n    .dataframe tbody tr th:only-of-type {\n        vertical-align: middle;\n    }\n\n    .dataframe tbody tr th {\n        vertical-align: top;\n    }\n\n    .dataframe thead th {\n        text-align: right;\n    }\n</style>\n<table border=\"1\" class=\"dataframe\">\n  <thead>\n    <tr style=\"text-align: right;\">\n      <th></th>\n      <th>Country</th>\n      <th>Currency</th>\n      <th>Brand Perception</th>\n      <th>Product 1 quantity (kg)</th>\n      <th>Product 1 price</th>\n      <th>Product 2 quantity (kg)</th>\n      <th>Product 2 price</th>\n      <th>Product 3 quantity (kg)</th>\n      <th>Product 3 price</th>\n      <th>Product 1 quantity (kg).1</th>\n      <th>...</th>\n      <th>Product 2 quantity (count)</th>\n      <th>Product 2 price.8</th>\n      <th>Product 3 quantity (count)</th>\n      <th>Product 3 price.8</th>\n      <th>Product 1 quantity (kg).7</th>\n      <th>Product 1 price.9</th>\n      <th>Product 2 quantity (kg).7</th>\n      <th>Product 2 price.9</th>\n      <th>Product 3 quantity (kg).7</th>\n      <th>Product 3 price.9</th>\n    </tr>\n  </thead>\n  <tbody>\n    <tr>\n      <th>0</th>\n      <td>Germany</td>\n      <td>EUR</td>\n      <td>Mid-range</td>\n      <td>1.0</td>\n      <td>2.93</td>\n      <td>2.0</td>\n      <td>3.22</td>\n      <td>1.0</td>\n      <td>1.75</td>\n      <td>1.0</td>\n      <td>...</td>\n      <td>6.0</td>\n      <td>1.75</td>\n      <td>4.0</td>\n      <td>1.99</td>\n      <td>0.312</td>\n      <td>3.97</td>\n      <td>0.600</td>\n      <td>3.87</td>\n      <td>0.400</td>\n      <td>2.90</td>\n    </tr>\n    <tr>\n      <th>1</th>\n      <td>Germany</td>\n      <td>EUR</td>\n      <td>Mid-range</td>\n      <td>1.0</td>\n      <td>1.95</td>\n      <td>1.0</td>\n      <td>2.93</td>\n      <td>0.8</td>\n      <td>2.93</td>\n      <td>1.0</td>\n      <td>...</td>\n      <td>6.0</td>\n      <td>2.73</td>\n      <td>10.0</td>\n      <td>1.63</td>\n      <td>0.394</td>\n      <td>5.02</td>\n      <td>0.430</td>\n      <td>7.17</td>\n      <td>0.311</td>\n      <td>9.12</td>\n    </tr>\n    <tr>\n      <th>2</th>\n      <td>Germany</td>\n      <td>EUR</td>\n      <td>Mid-range</td>\n      <td>1.0</td>\n      <td>2.93</td>\n      <td>1.0</td>\n      <td>1.25</td>\n      <td>2.0</td>\n      <td>3.42</td>\n      <td>1.0</td>\n      <td>...</td>\n      <td>10.0</td>\n      <td>3.23</td>\n      <td>10.0</td>\n      <td>1.25</td>\n      <td>0.600</td>\n      <td>3.88</td>\n      <td>0.400</td>\n      <td>2.91</td>\n      <td>NaN</td>\n      <td>NaN</td>\n    </tr>\n    <tr>\n      <th>3</th>\n      <td>Germany</td>\n      <td>EUR</td>\n      <td>Luxury (expensive)</td>\n      <td>1.0</td>\n      <td>3.99</td>\n      <td>1.0</td>\n      <td>3.99</td>\n      <td>1.0</td>\n      <td>3.99</td>\n      <td>1.0</td>\n      <td>...</td>\n      <td>10.0</td>\n      <td>1.99</td>\n      <td>1.0</td>\n      <td>0.45</td>\n      <td>1.000</td>\n      <td>32.90</td>\n      <td>NaN</td>\n      <td>NaN</td>\n      <td>NaN</td>\n      <td>NaN</td>\n    </tr>\n    <tr>\n      <th>4</th>\n      <td>Germany</td>\n      <td>EUR</td>\n      <td>Budget (cheap)</td>\n      <td>1.0</td>\n      <td>2.93</td>\n      <td>1.0</td>\n      <td>2.93</td>\n      <td>1.0</td>\n      <td>2.93</td>\n      <td>1.0</td>\n      <td>...</td>\n      <td>6.0</td>\n      <td>2.44</td>\n      <td>10.0</td>\n      <td>2.34</td>\n      <td>0.600</td>\n      <td>3.87</td>\n      <td>0.392</td>\n      <td>4.99</td>\n      <td>0.333</td>\n      <td>3.26</td>\n    </tr>\n  </tbody>\n</table>\n<p>5 rows × 63 columns</p>\n</div>"
     },
     "metadata": {},
     "execution_count": 7
    }
   ],
   "source": [
    "data.head()"
   ]
  },
  {
   "cell_type": "code",
   "execution_count": null,
   "metadata": {},
   "outputs": [],
   "source": []
  }
 ]
}