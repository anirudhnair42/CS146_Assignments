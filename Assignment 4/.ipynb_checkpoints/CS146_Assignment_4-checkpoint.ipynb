{
 "cells": [
  {
   "cell_type": "markdown",
   "metadata": {
    "id": "PXSTDEKNDppU"
   },
   "source": [
    "# CS146 | Assignment 4\n",
    "## Posterior Predictive Checks | Prof. Scheffler\n",
    "### Anirudh Nair\n",
    "\n",
    "Link to github: https://github.com/anirudhnair42/CS146_Assignments/blob/master/Assignment%204/CS146_Assignment_4.ipynb\n",
    "\n",
    "For the non-hierarchical model and the control group half of the data set, choose a test statistic to show that the non-hierarchical model does not explain the control group data well. You should generate posterior data samples from this model and compare the test\n",
    "statistic of the real data to the distribution under your samples from the posterior. Note that the posterior distribution for this model is already provided in the notebook, so you don’t\n",
    "have to calculate it. Submit your test statistic function, your code for generating samples from the posterior and computing the test statistic, and a histogram analogous to Gelman Figure 6.4 (reproduced\n",
    "below). Also, calculate and provide your p-value. Since the test statistic is supposed to show a deficiency of the model the p-value should be less than 0.05 or greater than 0.95."
   ]
  },
  {
   "cell_type": "markdown",
   "metadata": {
    "id": "VerDOv_5C-tN"
   },
   "source": [
    "#PCW Description Excerpt\n",
    "\n",
    "\n",
    "We consider the eczema medical trial data set again. This time we will compare which of 2 models explain the observed data best.\n",
    "\n",
    "* Model 1: All studies have the same probability of success.\n",
    "\n",
    "|Study          | Treatment group |   Control group  |\n",
    "|---------------|-----------------|------------------|\n",
    "|Di Rienzo 2014 |     20 / 23     |        9 / 15    |\n",
    "|Galli 1994     |     10 / 16     |       11 / 18    |\n",
    "|Kaufman 1974   |     13 / 16     |        4 / 10    |\n",
    "|Qin 2014       |     35 / 45     |       21 / 39    |\n",
    "|Sanchez 2012   |     22 / 31     |       12 / 29    |\n",
    "|Silny 2006     |      7 / 10     |        0 / 10    |\n",
    "|**Totals**     |    107 / 141    |       57 / 121   |\n",
    "\n",
    "\n",
    "**Model 1:**\n",
    "\n",
    "* For each group (treatment and control), all 6 studies have the same fixed, but unknown, probability of success, $\\theta_t,\\theta_c\\in[0,1]$.\n",
    "* The data follow a binomial distribution in each study, conditioned on the probability of success — $\\theta_t$ for treatment or $\\theta_c$ for control.\n",
    "* The priors over $\\theta_t$ and $\\theta_c$ are uniform.\n",
    "\n",
    "These assumptions lead to the following model.\n",
    "\n",
    "* Likelihood: $\\prod_{i=1}^6 \\text{Binomial}(s_i\\,|\\,\\theta, n_i)$, where $s_i$ is the number of successful recoveries, $f_i$ is the number of failures (did not recover), and $n_i=s_i+f_i$ the number of patients.\n",
    "\n",
    "* Prior: $\\text{Beta}(\\theta\\,|\\,1,1)$ for both $\\theta_t$ and $\\theta_c$.\n",
    "\n",
    "* Posterior for treatment group: $\\text{Beta}(\\theta_t\\,|\\,108, 35)$.\n",
    "\n",
    "* Posterior for control group: $\\text{Beta}(\\theta_c\\,|\\,58, 65)$."
   ]
  },
  {
   "cell_type": "markdown",
   "metadata": {
    "id": "FBbRnXTiC-tP"
   },
   "source": [
    "Since we have closed-form solutions for the posteriors, we can calculate the marginal likelihood by rearranging Bayes' equation: (marginal likelihood) = (likelihood) x (prior) / (posterior).\n",
    "\n",
    "$$ P(\\text{data}) = \\left[\\prod_{i=1}^6 \\text{Binomial}(s_i\\,|\\,\\theta, n_i) \\right] \\text{Beta}(\\theta\\,|\\,\\alpha_0,\\beta_0) \\,/\\, \\text{Beta}(\\theta\\,|\\,\\alpha_1,\\beta_1)$$\n",
    "where $\\alpha_0=1$ and $\\beta_0=1$ are the parameters of the prior, and $\\alpha_1$ and $\\beta_1$ are the parameters of the posterior beta distribution.\n",
    "\n",
    "Since all factors involving $\\theta$ cancel out, we are just left with the normalization constants of the likelihood, the prior and the posterior:\n",
    "\n",
    "$$\\begin{aligned}\n",
    "P(\\text{data})\n",
    "&= \\left[ \\prod_{i=1}^6 \\left(\\begin{array}{c}s_i+f_i \\\\ s_i\\end{array}\\right) \\right] \\frac{\\text{B}(\\alpha_1,\\beta_1)}{\\text{B}(\\alpha_0,\\beta_0)} \\\\\n",
    "&= \\left[\\prod_{i=1}^6 \\frac{1}{(s_i+f_i+1)\\text{B}(s_i+1,f_i+1)}\\right] \\frac{\\text{B}(\\alpha_1,\\beta_1)}{\\text{B}(\\alpha_0,\\beta_0)}\n",
    "\\end{aligned}$$\n",
    "\n",
    "We usually compute the log of the marginal likelihood since the results can vary over many orders of magnitude.\n",
    "\n",
    "**A word on notation** in the derivation above:\n",
    "\n",
    "* The beta _distribution_ is written as $\\text{Beta}(\\theta \\,|\\, \\alpha, \\beta)$.\n",
    "* The beta _function_ is written as $B(\\alpha,\\beta)$. $B$ is the Greek letter _capital beta_.\n",
    "* The beta function is part of the normalization constant of the beta distribution.\n",
    "\n",
    "This is similar to the gamma distribution and the gamma function, where\n",
    "\n",
    "* the distribution is written as $\\text{Gamma}(x \\,|\\, \\alpha, \\beta)$,\n",
    "* the function is written as $\\Gamma(\\alpha)$,\n",
    "* the gamma function is part of the normalization constant of the gamma distribution.\n",
    "\n",
    "**A word on simplifying the expression** in the derivation above:\n",
    "\n",
    "Just as the gamma function is related to factorials, the beta function is related to combinations:\n",
    "\n",
    "* $n! = \\Gamma(n+1)$ for integer $n$.\n",
    "* $\\binom{n}{k}=\\left((n+1)\\cdot B(n-k+1, k+1)\\right)^{-1}$\n",
    "\n",
    "The beta function can also be written in terms of the gamma function:\n",
    "\n",
    "* $B(x,y) = \\Gamma(x)\\ \\Gamma(y)\\ /\\ \\Gamma(x+y)$\n"
   ]
  },
  {
   "cell_type": "code",
   "execution_count": 1,
   "metadata": {
    "id": "tElytCwKEFeY"
   },
   "outputs": [],
   "source": [
    "#importing the required libraries\n",
    "\n",
    "import numpy as np\n",
    "import matplotlib.pyplot as plt\n",
    "import seaborn as sns\n",
    "import scipy.stats as stats\n",
    "sns.set()"
   ]
  },
  {
   "cell_type": "code",
   "execution_count": 2,
   "metadata": {
    "id": "If5qSUZ6EmT5"
   },
   "outputs": [],
   "source": [
    "#defining the success cases and the total data points in the control group data\n",
    "s_control = [9,11,4,21,12,0]\n",
    "t_control = [15,18,10,39,29,10]"
   ]
  },
  {
   "cell_type": "code",
   "execution_count": 10,
   "metadata": {
    "id": "jc-xVbkSGCui"
   },
   "outputs": [],
   "source": [
    "#defining a function for the test statistic for explaining how the drawn samples explain the control group data\n",
    "def test_stat(samples):\n",
    "  for i in range(len(t_control)):\n",
    "    success = [samples[i]/t_control[i] for i in range(len(t_control))]\n",
    "  stat = max(success) - min(success)\n",
    "  return stat"
   ]
  },
  {
   "cell_type": "code",
   "execution_count": 16,
   "metadata": {
    "colab": {
     "base_uri": "https://localhost:8080/"
    },
    "id": "8UGJvvVCMTjT",
    "outputId": "2c6527a7-f23d-44bd-9957-627a74a7f782"
   },
   "outputs": [
    {
     "name": "stdout",
     "output_type": "stream",
     "text": [
      "Original test statistic is : 0.6111111111111112\n"
     ]
    }
   ],
   "source": [
    "#calculating the test statistic for the actual data\n",
    "test_stat_1 = test_stat(s_control)\n",
    "print(\"Original test statistic is :\", test_stat_1)"
   ]
  },
  {
   "cell_type": "code",
   "execution_count": 13,
   "metadata": {
    "id": "dE9oFaWgIlNN"
   },
   "outputs": [],
   "source": [
    "#drawing samples from the posterior for the control group\n",
    "posterior = stats.beta.rvs(a = 58, b = 65, size = 1000)\n",
    "\n",
    "#strong the generated test statistic values from our function\n",
    "test_stats = []\n",
    "\n",
    "r_control = []\n",
    "#recreating control group data using the chosen posterior distribution\n",
    "for i in posterior:\n",
    "  r_control = [int(stats.binom.rvs(t_control[j], i, size = 1)) for j in range(len(t_control))]\n",
    "  test_stats.append(test_stat(r_control))"
   ]
  },
  {
   "cell_type": "code",
   "execution_count": 17,
   "metadata": {
    "colab": {
     "base_uri": "https://localhost:8080/"
    },
    "id": "o3wdilKRML1L",
    "outputId": "7a6b65af-394c-4b13-a8f9-54e31a7e5304"
   },
   "outputs": [
    {
     "name": "stdout",
     "output_type": "stream",
     "text": [
      "Test statistic for the model is : 0.3191739463601532\n"
     ]
    }
   ],
   "source": [
    "#test stats from the samples generated from the non-hierarchial model\n",
    "test_stat_2 = np.mean(test_stats)\n",
    "print(\"Test statistic for the model is :\", test_stat_2)"
   ]
  },
  {
   "cell_type": "code",
   "execution_count": 18,
   "metadata": {
    "colab": {
     "base_uri": "https://localhost:8080/",
     "height": 301
    },
    "id": "z8w7yT8-NJZk",
    "outputId": "565aeb57-5827-48ff-d35c-f546d8a5faf5"
   },
   "outputs": [
    {
     "data": {
      "text/plain": [
       "<matplotlib.lines.Line2D at 0x7f6ab69702e8>"
      ]
     },
     "execution_count": 18,
     "metadata": {
      "tags": []
     },
     "output_type": "execute_result"
    },
    {
     "data": {
      "image/png": "[encoded data removed]",
      "text/plain": [
       "<Figure size 432x288 with 1 Axes>"
      ]
     },
     "metadata": {
      "needs_background": "light",
      "tags": []
     },
     "output_type": "display_data"
    }
   ],
   "source": [
    "#plotting the histogram analogous to Gelman Figure 6.4\n",
    "plt.hist(test_stats, alpha = 0.5, density = True)\n",
    "plt.title(\"Histogram for distribution of success rates over the model sampled data\")\n",
    "plt.axvline(test_stat_1, color='red')"
   ]
  },
  {
   "cell_type": "code",
   "execution_count": 20,
   "metadata": {
    "colab": {
     "base_uri": "https://localhost:8080/"
    },
    "id": "kKl4DG_ONyhL",
    "outputId": "88baf6aa-4847-4665-9a6d-23a097c95539"
   },
   "outputs": [
    {
     "name": "stdout",
     "output_type": "stream",
     "text": [
      "The value for our model comes out to be : 0.014\n"
     ]
    }
   ],
   "source": [
    "pvalue = sum([1 for i in test_stats if i > test_stat_1])/len(test_stats)\n",
    "print('The value for our model comes out to be :', pvalue)"
   ]
  }
 ],
 "metadata": {
  "colab": {
   "name": "CS146 - Assignment 4",
   "provenance": []
  },
  "kernelspec": {
   "display_name": "Python 3",
   "language": "python",
   "name": "python3"
  },
  "language_info": {
   "codemirror_mode": {
    "name": "ipython",
    "version": 3
   },
   "file_extension": ".py",
   "mimetype": "text/x-python",
   "name": "python",
   "nbconvert_exporter": "python",
   "pygments_lexer": "ipython3",
   "version": "3.8.3"
  }
 },
 "nbformat": 4,
 "nbformat_minor": 1
}
